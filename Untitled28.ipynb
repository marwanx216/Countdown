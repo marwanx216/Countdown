{
 "cells": [
  {
   "cell_type": "code",
   "execution_count": 3,
   "id": "91e75069",
   "metadata": {},
   "outputs": [
    {
     "name": "stdout",
     "output_type": "stream",
     "text": [
      "Enter the time length in seconds: 10\n",
      "FIRE!!!\n"
     ]
    }
   ],
   "source": [
    "# Imprt the time module\n",
    "import time\n",
    "\n",
    "# Define the countdowm() function\n",
    "# 't' is sent as a paramenter\n",
    "def countdown(t):\n",
    "    \n",
    "    while True:\n",
    "        \n",
    "        # minutes = t // 60\n",
    "        # seconds = t % 60\n",
    "        minutes, seconds = divmod(t,60)\n",
    "        \n",
    "        # Print the time in MM:SS format\n",
    "        print('{:02d}:{:02d}'.format(minutes,seconds),end='\\r')\n",
    "        \n",
    "        t -=1\n",
    "        \n",
    "        # Print every one second using the sleep() method from time module\n",
    "        time.sleep(1.0)\n",
    "        \n",
    "        # Break the loop when the time reaches zero\n",
    "        if t<0:\n",
    "            break\n",
    "     # Print 'FIRE!!!' after the countdown is finished       \n",
    "    print(\"FIRE!!!\")\n",
    "\n",
    "\n",
    "# Input the length of countdown from the user (integer)\n",
    "t = int(input(\"Enter the time length in seconds: \"))\n",
    "countdown(t)\n"
   ]
  }
 ],
 "metadata": {
  "kernelspec": {
   "display_name": "Python 3 (ipykernel)",
   "language": "python",
   "name": "python3"
  },
  "language_info": {
   "codemirror_mode": {
    "name": "ipython",
    "version": 3
   },
   "file_extension": ".py",
   "mimetype": "text/x-python",
   "name": "python",
   "nbconvert_exporter": "python",
   "pygments_lexer": "ipython3",
   "version": "3.9.12"
  }
 },
 "nbformat": 4,
 "nbformat_minor": 5
}
